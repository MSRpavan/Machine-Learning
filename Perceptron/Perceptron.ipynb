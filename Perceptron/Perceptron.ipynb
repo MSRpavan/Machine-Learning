{
 "cells": [
  {
   "cell_type": "code",
   "execution_count": 19,
   "metadata": {},
   "outputs": [],
   "source": [
    "import numpy as  np\n",
    "import pandas as pd\n",
    "import matplotlib.pyplot as plt"
   ]
  },
  {
   "cell_type": "code",
   "execution_count": 20,
   "metadata": {},
   "outputs": [
    {
     "data": {
      "text/html": [
       "<div>\n",
       "<style scoped>\n",
       "    .dataframe tbody tr th:only-of-type {\n",
       "        vertical-align: middle;\n",
       "    }\n",
       "\n",
       "    .dataframe tbody tr th {\n",
       "        vertical-align: top;\n",
       "    }\n",
       "\n",
       "    .dataframe thead th {\n",
       "        text-align: right;\n",
       "    }\n",
       "</style>\n",
       "<table border=\"1\" class=\"dataframe\">\n",
       "  <thead>\n",
       "    <tr style=\"text-align: right;\">\n",
       "      <th></th>\n",
       "      <th>Id</th>\n",
       "      <th>SepalLengthCm</th>\n",
       "      <th>SepalWidthCm</th>\n",
       "      <th>PetalLengthCm</th>\n",
       "      <th>PetalWidthCm</th>\n",
       "      <th>Species</th>\n",
       "    </tr>\n",
       "  </thead>\n",
       "  <tbody>\n",
       "    <tr>\n",
       "      <th>0</th>\n",
       "      <td>1</td>\n",
       "      <td>5.1</td>\n",
       "      <td>3.5</td>\n",
       "      <td>1.4</td>\n",
       "      <td>0.2</td>\n",
       "      <td>Iris-setosa</td>\n",
       "    </tr>\n",
       "    <tr>\n",
       "      <th>1</th>\n",
       "      <td>2</td>\n",
       "      <td>4.9</td>\n",
       "      <td>3.0</td>\n",
       "      <td>1.4</td>\n",
       "      <td>0.2</td>\n",
       "      <td>Iris-setosa</td>\n",
       "    </tr>\n",
       "    <tr>\n",
       "      <th>2</th>\n",
       "      <td>3</td>\n",
       "      <td>4.7</td>\n",
       "      <td>3.2</td>\n",
       "      <td>1.3</td>\n",
       "      <td>0.2</td>\n",
       "      <td>Iris-setosa</td>\n",
       "    </tr>\n",
       "    <tr>\n",
       "      <th>3</th>\n",
       "      <td>4</td>\n",
       "      <td>4.6</td>\n",
       "      <td>3.1</td>\n",
       "      <td>1.5</td>\n",
       "      <td>0.2</td>\n",
       "      <td>Iris-setosa</td>\n",
       "    </tr>\n",
       "    <tr>\n",
       "      <th>4</th>\n",
       "      <td>5</td>\n",
       "      <td>5.0</td>\n",
       "      <td>3.6</td>\n",
       "      <td>1.4</td>\n",
       "      <td>0.2</td>\n",
       "      <td>Iris-setosa</td>\n",
       "    </tr>\n",
       "  </tbody>\n",
       "</table>\n",
       "</div>"
      ],
      "text/plain": [
       "   Id  SepalLengthCm  SepalWidthCm  PetalLengthCm  PetalWidthCm      Species\n",
       "0   1            5.1           3.5            1.4           0.2  Iris-setosa\n",
       "1   2            4.9           3.0            1.4           0.2  Iris-setosa\n",
       "2   3            4.7           3.2            1.3           0.2  Iris-setosa\n",
       "3   4            4.6           3.1            1.5           0.2  Iris-setosa\n",
       "4   5            5.0           3.6            1.4           0.2  Iris-setosa"
      ]
     },
     "execution_count": 20,
     "metadata": {},
     "output_type": "execute_result"
    }
   ],
   "source": [
    "df=pd.read_csv(\"E:\\DL course\\DataSets\\Iris Dataset - iris.csv\")\n",
    "df.head()"
   ]
  },
  {
   "cell_type": "code",
   "execution_count": 21,
   "metadata": {},
   "outputs": [
    {
     "data": {
      "text/plain": [
       "array(['Iris-setosa', 'Iris-versicolor', 'Iris-virginica'], dtype=object)"
      ]
     },
     "execution_count": 21,
     "metadata": {},
     "output_type": "execute_result"
    }
   ],
   "source": [
    "df['Species'].unique()"
   ]
  },
  {
   "cell_type": "code",
   "execution_count": 22,
   "metadata": {},
   "outputs": [
    {
     "data": {
      "text/plain": [
       "(150, 6)"
      ]
     },
     "execution_count": 22,
     "metadata": {},
     "output_type": "execute_result"
    }
   ],
   "source": [
    "df.shape"
   ]
  },
  {
   "cell_type": "code",
   "execution_count": 23,
   "metadata": {},
   "outputs": [],
   "source": [
    "df=df.drop('Id',axis=1)"
   ]
  },
  {
   "cell_type": "code",
   "execution_count": 24,
   "metadata": {},
   "outputs": [],
   "source": [
    "#Splitting data\n",
    "df_sample=df[df['Species'] != 'Iris-setosa']\n",
    "x=df_sample.drop('Species',axis=1)\n",
    "y=df_sample['Species'].map({ 'Iris-versicolor':0, 'Iris-virginica':1}).values"
   ]
  },
  {
   "cell_type": "code",
   "execution_count": 25,
   "metadata": {},
   "outputs": [
    {
     "data": {
      "text/plain": [
       "((80, 4), (80,), (20, 4), (20,))"
      ]
     },
     "execution_count": 25,
     "metadata": {},
     "output_type": "execute_result"
    }
   ],
   "source": [
    "from sklearn.model_selection import train_test_split\n",
    "x_train,x_test,y_train,y_test=train_test_split(x,y,test_size=.20,shuffle=True,random_state=42)\n",
    "x_train.shape,y_train.shape,x_test.shape,y_test.shape"
   ]
  },
  {
   "cell_type": "code",
   "execution_count": 26,
   "metadata": {},
   "outputs": [
    {
     "data": {
      "text/plain": [
       "((80, 4), (20, 4))"
      ]
     },
     "execution_count": 26,
     "metadata": {},
     "output_type": "execute_result"
    }
   ],
   "source": [
    "# Standardizing the data\n",
    "mean=np.mean(x_train,axis=0)\n",
    "std=np.std(x_train,axis=0)\n",
    "\n",
    "x_train=(x_train-mean)/std\n",
    "x_test=(x_test-mean)/std\n",
    "\n",
    "x_train.shape,x_test.shape"
   ]
  },
  {
   "cell_type": "code",
   "execution_count": 38,
   "metadata": {},
   "outputs": [],
   "source": [
    "class Perceptron:\n",
    "    \n",
    "    def __init__(self, learning_rate=0.0001, epochs=100):\n",
    "        self.w = None\n",
    "        self.learning_rate = learning_rate\n",
    "        self.epochs = epochs\n",
    "        \n",
    "    def output_layer(self, x):\n",
    "        return np.dot(x, self.w)\n",
    "    \n",
    "    def step(self, x):\n",
    "        return np.where(x >= 0, 1, 0)\n",
    "        \n",
    "    def mse(self, y_true, y_pred):\n",
    "        return ((y_pred - y_true) ** 2).mean()    \n",
    "        \n",
    "    def fit(self, x_train, y_train):\n",
    "        x_train = np.c_[np.ones(x_train.shape[0]), x_train]\n",
    "        self.w = np.zeros(x_train.shape[1])  # Reshape not needed\n",
    "        \n",
    "        for epoch in range(self.epochs):\n",
    "            preds = self.output_layer(x_train)\n",
    "            y_pred = np.vectorize(self.step)(preds)\n",
    "            \n",
    "            error = self.mse(y_train, y_pred)\n",
    "            dE_dW = -2 * np.dot((y_train - y_pred), x_train) / len(y_train)\n",
    "            \n",
    "            self.w -= self.learning_rate * dE_dW\n",
    "            \n",
    "            print(f'Iteration: {epoch}, Error: {error}')\n",
    "    \n",
    "    def predict(self, x_test):\n",
    "        x_test = np.c_[np.ones(x_test.shape[0]), x_test]\n",
    "        predictions = self.output_layer(x_test)\n",
    "        y_test = np.vectorize(self.step)(predictions)\n",
    "        return y_test\n"
   ]
  },
  {
   "cell_type": "code",
   "execution_count": 39,
   "metadata": {},
   "outputs": [
    {
     "name": "stdout",
     "output_type": "stream",
     "text": [
      "Iteration: 0, Error: 0.475\n",
      "Iteration: 1, Error: 0.1625\n",
      "Iteration: 2, Error: 0.125\n",
      "Iteration: 3, Error: 0.0625\n",
      "Iteration: 4, Error: 0.05\n",
      "Iteration: 5, Error: 0.025\n",
      "Iteration: 6, Error: 0.0125\n",
      "Iteration: 7, Error: 0.0125\n",
      "Iteration: 8, Error: 0.0125\n",
      "Iteration: 9, Error: 0.0125\n",
      "Iteration: 10, Error: 0.0\n",
      "Iteration: 11, Error: 0.0\n",
      "Iteration: 12, Error: 0.0\n",
      "Iteration: 13, Error: 0.0\n",
      "Iteration: 14, Error: 0.0\n",
      "Iteration: 15, Error: 0.0\n",
      "Iteration: 16, Error: 0.0\n",
      "Iteration: 17, Error: 0.0\n",
      "Iteration: 18, Error: 0.0\n",
      "Iteration: 19, Error: 0.0\n",
      "Iteration: 20, Error: 0.0\n",
      "Iteration: 21, Error: 0.0\n",
      "Iteration: 22, Error: 0.0\n",
      "Iteration: 23, Error: 0.0\n",
      "Iteration: 24, Error: 0.0\n",
      "Iteration: 25, Error: 0.0\n",
      "Iteration: 26, Error: 0.0\n",
      "Iteration: 27, Error: 0.0\n",
      "Iteration: 28, Error: 0.0\n",
      "Iteration: 29, Error: 0.0\n",
      "Iteration: 30, Error: 0.0\n",
      "Iteration: 31, Error: 0.0\n",
      "Iteration: 32, Error: 0.0\n",
      "Iteration: 33, Error: 0.0\n",
      "Iteration: 34, Error: 0.0\n",
      "Iteration: 35, Error: 0.0\n",
      "Iteration: 36, Error: 0.0\n",
      "Iteration: 37, Error: 0.0\n",
      "Iteration: 38, Error: 0.0\n",
      "Iteration: 39, Error: 0.0\n",
      "Iteration: 40, Error: 0.0\n",
      "Iteration: 41, Error: 0.0\n",
      "Iteration: 42, Error: 0.0\n",
      "Iteration: 43, Error: 0.0\n",
      "Iteration: 44, Error: 0.0\n",
      "Iteration: 45, Error: 0.0\n",
      "Iteration: 46, Error: 0.0\n",
      "Iteration: 47, Error: 0.0\n",
      "Iteration: 48, Error: 0.0\n",
      "Iteration: 49, Error: 0.0\n",
      "Iteration: 50, Error: 0.0\n",
      "Iteration: 51, Error: 0.0\n",
      "Iteration: 52, Error: 0.0\n",
      "Iteration: 53, Error: 0.0\n",
      "Iteration: 54, Error: 0.0\n",
      "Iteration: 55, Error: 0.0\n",
      "Iteration: 56, Error: 0.0\n",
      "Iteration: 57, Error: 0.0\n",
      "Iteration: 58, Error: 0.0\n",
      "Iteration: 59, Error: 0.0\n",
      "Iteration: 60, Error: 0.0\n",
      "Iteration: 61, Error: 0.0\n",
      "Iteration: 62, Error: 0.0\n",
      "Iteration: 63, Error: 0.0\n",
      "Iteration: 64, Error: 0.0\n",
      "Iteration: 65, Error: 0.0\n",
      "Iteration: 66, Error: 0.0\n",
      "Iteration: 67, Error: 0.0\n",
      "Iteration: 68, Error: 0.0\n",
      "Iteration: 69, Error: 0.0\n",
      "Iteration: 70, Error: 0.0\n",
      "Iteration: 71, Error: 0.0\n",
      "Iteration: 72, Error: 0.0\n",
      "Iteration: 73, Error: 0.0\n",
      "Iteration: 74, Error: 0.0\n",
      "Iteration: 75, Error: 0.0\n",
      "Iteration: 76, Error: 0.0\n",
      "Iteration: 77, Error: 0.0\n",
      "Iteration: 78, Error: 0.0\n",
      "Iteration: 79, Error: 0.0\n",
      "Iteration: 80, Error: 0.0\n",
      "Iteration: 81, Error: 0.0\n",
      "Iteration: 82, Error: 0.0\n",
      "Iteration: 83, Error: 0.0\n",
      "Iteration: 84, Error: 0.0\n",
      "Iteration: 85, Error: 0.0\n",
      "Iteration: 86, Error: 0.0\n",
      "Iteration: 87, Error: 0.0\n",
      "Iteration: 88, Error: 0.0\n",
      "Iteration: 89, Error: 0.0\n",
      "Iteration: 90, Error: 0.0\n",
      "Iteration: 91, Error: 0.0\n",
      "Iteration: 92, Error: 0.0\n",
      "Iteration: 93, Error: 0.0\n",
      "Iteration: 94, Error: 0.0\n",
      "Iteration: 95, Error: 0.0\n",
      "Iteration: 96, Error: 0.0\n",
      "Iteration: 97, Error: 0.0\n",
      "Iteration: 98, Error: 0.0\n",
      "Iteration: 99, Error: 0.0\n"
     ]
    }
   ],
   "source": [
    "# Object creation\n",
    "perceptron=Perceptron(learning_rate=0.001,epochs=100)\n",
    "perceptron.fit(x_train,y_train)\n",
    "y_pred=perceptron.predict(x_test)"
   ]
  },
  {
   "cell_type": "code",
   "execution_count": 29,
   "metadata": {},
   "outputs": [
    {
     "name": "stdout",
     "output_type": "stream",
     "text": [
      "Accuracy: 90.00%\n",
      "(20, 4)\n"
     ]
    }
   ],
   "source": [
    "correct_predictions = np.sum(y_pred == y_test)\n",
    "total_samples = len(y_test)\n",
    "\n",
    "accuracy = correct_predictions / total_samples\n",
    "print(f\"Accuracy: {accuracy * 100:.2f}%\")\n",
    "print(x_test.shape)"
   ]
  },
  {
   "cell_type": "code",
   "execution_count": 30,
   "metadata": {},
   "outputs": [
    {
     "data": {
      "image/png": "[encoded data removed]",
      "text/plain": [
       "<Figure size 640x480 with 2 Axes>"
      ]
     },
     "metadata": {},
     "output_type": "display_data"
    }
   ],
   "source": [
    "from sklearn.metrics import confusion_matrix\n",
    "conf_matrix = confusion_matrix(y_test, y_pred)\n",
    "plt.imshow(conf_matrix, interpolation='nearest', cmap=plt.cm.Blues)\n",
    "plt.title('Confusion Matrix')\n",
    "plt.colorbar()\n",
    "plt.xlabel('Predicted Label')\n",
    "plt.ylabel('True Label')\n",
    "\n",
    "for i in range(conf_matrix.shape[0]):\n",
    "    for j in range(conf_matrix.shape[1]):\n",
    "        plt.text(j, i, str(conf_matrix[i, j]), ha='center', va='center', color='black')\n",
    "\n",
    "class_labels = [f'Class {i}' for i in range(conf_matrix.shape[0])]\n",
    "plt.xticks(np.arange(len(class_labels)), class_labels)\n",
    "plt.yticks(np.arange(len(class_labels)), class_labels)\n",
    "\n",
    "plt.show()\n"
   ]
  },
  {
   "cell_type": "code",
   "execution_count": null,
   "metadata": {},
   "outputs": [],
   "source": []
  }
 ],
 "metadata": {
  "kernelspec": {
   "display_name": "base",
   "language": "python",
   "name": "python3"
  },
  "language_info": {
   "codemirror_mode": {
    "name": "ipython",
    "version": 3
   },
   "file_extension": ".py",
   "mimetype": "text/x-python",
   "name": "python",
   "nbconvert_exporter": "python",
   "pygments_lexer": "ipython3",
   "version": "3.11.5"
  }
 },
 "nbformat": 4,
 "nbformat_minor": 2
}
